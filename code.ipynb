{
 "cells": [
  {
   "cell_type": "code",
   "execution_count": 36,
   "id": "895e3204",
   "metadata": {},
   "outputs": [],
   "source": [
    "import sympy as sym\n",
    "#1. Define the basic variables\n",
    "gamma_u = sym.symbols('gamma_u')\n",
    "beta_u =  sym.symbols('beta_u')\n",
    "gamma_v = sym.symbols('gamma_v')\n",
    "beta_v =  sym.symbols('beta_v')\n",
    "gamma = sym.symbols('gamma')\n",
    "#2. Define the short-hand variables\n",
    "k_u = gamma_u**2/(1+gamma_u)\n",
    "k_v = gamma_v**2/(1+gamma_v)\n",
    "delta = sym.symbols('delta')\n",
    "gamma = gamma_u*gamma_v*(1+delta)\n",
    "k = gamma**2/(1+gamma)\n",
    "\n",
    "#to convert beta into gamma\n",
    "beta_u = sym.sqrt(1-1/gamma_u**2) \n",
    "beta_v = sym.sqrt(1-1/gamma_v**2) \n",
    "\n",
    "\n",
    "\n",
    "G = gamma_u * gamma_v + k_u * gamma_v * delta\n",
    "F = gamma_u * gamma_v + k_v * gamma_u * delta\n",
    "\n",
    "C0 = k_u * k_v * delta + gamma_u * gamma_v\n",
    "\n",
    "#finding A, B, C, D\n",
    "A = -G*gamma_u + k_u + (k*G**2 + k*k_u*G**2 * beta_u **2 + k*k_u*G*gamma_v*delta)/gamma**2\n",
    "A = sym.factor(A)\n",
    "\n",
    "B = -F*gamma_v + k_v + k*(C0 * G * gamma_v * beta_u **2 + k_v * G * gamma_v * delta + k_v * gamma_v **2 * beta_v **2 + C0 * gamma_v**2 * delta + gamma_v**2)/gamma**2\n",
    "B = sym.factor(B)\n",
    "\n",
    "C = -G*F + C0 + k*(G*gamma_v + k_v*G*gamma_v*beta_v**2 + G*gamma_v*C0*delta + G**2*k_v*delta + G**2*C0*beta_u**2)/gamma**2\n",
    "C = sym.factor(C)\n",
    "\n",
    "D = -gamma_u * gamma_v + k*(G*gamma_v*beta_u**2*k_u +  gamma_v**2*k_u*delta + G*gamma_v)/gamma**2\n",
    "D = sym.factor(D)\n",
    "\n",
    "#the function 'sym.factor' is\n",
    "#to simplify the expression"
   ]
  },
  {
   "cell_type": "code",
   "execution_count": 37,
   "id": "bec56a82",
   "metadata": {},
   "outputs": [
    {
     "data": {
      "text/latex": [
       "$\\displaystyle - \\frac{\\gamma_{u}^{2} \\left(\\gamma_{v} - 1\\right)}{\\left(\\gamma_{u} + 1\\right) \\left(\\delta \\gamma_{u} \\gamma_{v} + \\gamma_{u} \\gamma_{v} + 1\\right)}$"
      ],
      "text/plain": [
       "-gamma_u**2*(gamma_v - 1)/((gamma_u + 1)*(delta*gamma_u*gamma_v + gamma_u*gamma_v + 1))"
      ]
     },
     "execution_count": 37,
     "metadata": {},
     "output_type": "execute_result"
    }
   ],
   "source": [
    "A"
   ]
  },
  {
   "cell_type": "code",
   "execution_count": 38,
   "id": "f8000315",
   "metadata": {
    "scrolled": true
   },
   "outputs": [
    {
     "data": {
      "text/latex": [
       "$\\displaystyle - \\frac{\\gamma_{v}^{2} \\left(\\gamma_{u} - 1\\right)}{\\left(\\gamma_{v} + 1\\right) \\left(\\delta \\gamma_{u} \\gamma_{v} + \\gamma_{u} \\gamma_{v} + 1\\right)}$"
      ],
      "text/plain": [
       "-gamma_v**2*(gamma_u - 1)/((gamma_v + 1)*(delta*gamma_u*gamma_v + gamma_u*gamma_v + 1))"
      ]
     },
     "execution_count": 38,
     "metadata": {},
     "output_type": "execute_result"
    }
   ],
   "source": [
    "B"
   ]
  },
  {
   "cell_type": "code",
   "execution_count": 34,
   "id": "4cd5c8fe",
   "metadata": {},
   "outputs": [
    {
     "data": {
      "text/latex": [
       "$\\displaystyle \\frac{\\gamma_{u} \\gamma_{v} \\left(2 \\delta \\gamma_{u} \\gamma_{v} + \\gamma_{u} \\gamma_{v} + \\gamma_{u} + \\gamma_{v} + 1\\right)}{\\left(\\gamma_{u} + 1\\right) \\left(\\gamma_{v} + 1\\right) \\left(\\delta \\gamma_{u} \\gamma_{v} + \\gamma_{u} \\gamma_{v} + 1\\right)}$"
      ],
      "text/plain": [
       "gamma_u*gamma_v*(2*delta*gamma_u*gamma_v + gamma_u*gamma_v + gamma_u + gamma_v + 1)/((gamma_u + 1)*(gamma_v + 1)*(delta*gamma_u*gamma_v + gamma_u*gamma_v + 1))"
      ]
     },
     "execution_count": 34,
     "metadata": {},
     "output_type": "execute_result"
    }
   ],
   "source": [
    "C"
   ]
  },
  {
   "cell_type": "code",
   "execution_count": 35,
   "id": "66a5baf3",
   "metadata": {},
   "outputs": [
    {
     "data": {
      "text/latex": [
       "$\\displaystyle - \\frac{\\gamma_{u} \\gamma_{v}}{\\delta \\gamma_{u} \\gamma_{v} + \\gamma_{u} \\gamma_{v} + 1}$"
      ],
      "text/plain": [
       "-gamma_u*gamma_v/(delta*gamma_u*gamma_v + gamma_u*gamma_v + 1)"
      ]
     },
     "execution_count": 35,
     "metadata": {},
     "output_type": "execute_result"
    }
   ],
   "source": [
    "D"
   ]
  },
  {
   "cell_type": "code",
   "execution_count": null,
   "id": "d1eb6c55",
   "metadata": {},
   "outputs": [],
   "source": []
  }
 ],
 "metadata": {
  "kernelspec": {
   "display_name": "Python 3 (ipykernel)",
   "language": "python",
   "name": "python3"
  },
  "language_info": {
   "codemirror_mode": {
    "name": "ipython",
    "version": 3
   },
   "file_extension": ".py",
   "mimetype": "text/x-python",
   "name": "python",
   "nbconvert_exporter": "python",
   "pygments_lexer": "ipython3",
   "version": "3.10.11"
  }
 },
 "nbformat": 4,
 "nbformat_minor": 5
}
